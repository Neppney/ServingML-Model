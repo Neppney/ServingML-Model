{
 "cells": [
  {
   "cell_type": "code",
   "execution_count": 12,
   "metadata": {},
   "outputs": [],
   "source": [
    "import pandas as pd\n",
    "from wordcloud import WordCloud\n",
    "from nltk.corpus import stopwords\n",
    "from sklearn.preprocessing import scale\n",
    "import matplotlib.pyplot as plt"
   ]
  },
  {
   "cell_type": "code",
   "execution_count": 9,
   "metadata": {},
   "outputs": [
    {
     "name": "stdout",
     "output_type": "stream",
     "text": [
      "Length of training data: 567\n"
     ]
    }
   ],
   "source": [
    "train_file = \"data/dji/dji.csv\"\n",
    "# names=[\"Date\", \"Open\", \"High\", \"Low\", \"Close\", \"Adj Close\", \"Volume\"]\n",
    "df_train = pd.read_csv(train_file, sep=\",\", header=0, usecols=[0, 1, 2, 3])\n",
    "l_train = len(df_train)\n",
    "print(\"Length of training data: %d\"%(l_train))\n"
   ]
  },
  {
   "cell_type": "code",
   "execution_count": 10,
   "metadata": {},
   "outputs": [
    {
     "data": {
      "text/html": [
       "<div>\n",
       "<style scoped>\n",
       "    .dataframe tbody tr th:only-of-type {\n",
       "        vertical-align: middle;\n",
       "    }\n",
       "\n",
       "    .dataframe tbody tr th {\n",
       "        vertical-align: top;\n",
       "    }\n",
       "\n",
       "    .dataframe thead th {\n",
       "        text-align: right;\n",
       "    }\n",
       "</style>\n",
       "<table border=\"1\" class=\"dataframe\">\n",
       "  <thead>\n",
       "    <tr style=\"text-align: right;\">\n",
       "      <th></th>\n",
       "      <th>Date</th>\n",
       "      <th>Open</th>\n",
       "      <th>High</th>\n",
       "      <th>Low</th>\n",
       "    </tr>\n",
       "  </thead>\n",
       "  <tbody>\n",
       "    <tr>\n",
       "      <th>0</th>\n",
       "      <td>40179</td>\n",
       "      <td>10430.69043</td>\n",
       "      <td>10612.37012</td>\n",
       "      <td>10430.690430</td>\n",
       "    </tr>\n",
       "    <tr>\n",
       "      <th>1</th>\n",
       "      <td>40186</td>\n",
       "      <td>10606.40039</td>\n",
       "      <td>10723.76953</td>\n",
       "      <td>10554.330080</td>\n",
       "    </tr>\n",
       "    <tr>\n",
       "      <th>2</th>\n",
       "      <td>40193</td>\n",
       "      <td>10706.99023</td>\n",
       "      <td>10729.88965</td>\n",
       "      <td>10374.690430</td>\n",
       "    </tr>\n",
       "    <tr>\n",
       "      <th>3</th>\n",
       "      <td>40200</td>\n",
       "      <td>10389.58008</td>\n",
       "      <td>10389.58008</td>\n",
       "      <td>10055.080080</td>\n",
       "    </tr>\n",
       "    <tr>\n",
       "      <th>4</th>\n",
       "      <td>40207</td>\n",
       "      <td>10122.04004</td>\n",
       "      <td>10314.83984</td>\n",
       "      <td>9998.030273</td>\n",
       "    </tr>\n",
       "  </tbody>\n",
       "</table>\n",
       "</div>"
      ],
      "text/plain": [
       "    Date         Open         High           Low\n",
       "0  40179  10430.69043  10612.37012  10430.690430\n",
       "1  40186  10606.40039  10723.76953  10554.330080\n",
       "2  40193  10706.99023  10729.88965  10374.690430\n",
       "3  40200  10389.58008  10389.58008  10055.080080\n",
       "4  40207  10122.04004  10314.83984   9998.030273"
      ]
     },
     "execution_count": 10,
     "metadata": {},
     "output_type": "execute_result"
    }
   ],
   "source": [
    "df_train.head(5)"
   ]
  },
  {
   "cell_type": "code",
   "execution_count": 7,
   "metadata": {},
   "outputs": [],
   "source": [
    "df_train.text = df_train.text.str.lower()\n",
    "df_train.label = df_train.label.str.lower()"
   ]
  },
  {
   "cell_type": "code",
   "execution_count": 5,
   "metadata": {},
   "outputs": [
    {
     "data": {
      "text/html": [
       "<div>\n",
       "<style scoped>\n",
       "    .dataframe tbody tr th:only-of-type {\n",
       "        vertical-align: middle;\n",
       "    }\n",
       "\n",
       "    .dataframe tbody tr th {\n",
       "        vertical-align: top;\n",
       "    }\n",
       "\n",
       "    .dataframe thead th {\n",
       "        text-align: right;\n",
       "    }\n",
       "</style>\n",
       "<table border=\"1\" class=\"dataframe\">\n",
       "  <thead>\n",
       "    <tr style=\"text-align: right;\">\n",
       "      <th></th>\n",
       "      <th>Date</th>\n",
       "      <th>Open</th>\n",
       "      <th>High</th>\n",
       "      <th>Low</th>\n",
       "      <th>Close</th>\n",
       "      <th>Adj Close</th>\n",
       "      <th>Volume</th>\n",
       "    </tr>\n",
       "  </thead>\n",
       "  <tbody>\n",
       "    <tr>\n",
       "      <th>0</th>\n",
       "      <td>Date</td>\n",
       "      <td>Open</td>\n",
       "      <td>High</td>\n",
       "      <td>Low</td>\n",
       "      <td>Close</td>\n",
       "      <td>Adj Close</td>\n",
       "      <td>Volume</td>\n",
       "    </tr>\n",
       "    <tr>\n",
       "      <th>1</th>\n",
       "      <td>40179</td>\n",
       "      <td>10430.69043</td>\n",
       "      <td>10612.37012</td>\n",
       "      <td>10430.69043</td>\n",
       "      <td>10606.86035</td>\n",
       "      <td>10606.86035</td>\n",
       "      <td>771750000</td>\n",
       "    </tr>\n",
       "    <tr>\n",
       "      <th>2</th>\n",
       "      <td>40186</td>\n",
       "      <td>10606.40039</td>\n",
       "      <td>10723.76953</td>\n",
       "      <td>10554.33008</td>\n",
       "      <td>10710.54981</td>\n",
       "      <td>10710.54981</td>\n",
       "      <td>1014940000</td>\n",
       "    </tr>\n",
       "    <tr>\n",
       "      <th>3</th>\n",
       "      <td>40193</td>\n",
       "      <td>10706.99023</td>\n",
       "      <td>10729.88965</td>\n",
       "      <td>10374.69043</td>\n",
       "      <td>10389.87988</td>\n",
       "      <td>10389.87988</td>\n",
       "      <td>1062640000</td>\n",
       "    </tr>\n",
       "    <tr>\n",
       "      <th>4</th>\n",
       "      <td>40200</td>\n",
       "      <td>10389.58008</td>\n",
       "      <td>10389.58008</td>\n",
       "      <td>10055.08008</td>\n",
       "      <td>10120.45996</td>\n",
       "      <td>10120.45996</td>\n",
       "      <td>1258470000</td>\n",
       "    </tr>\n",
       "    <tr>\n",
       "      <th>5</th>\n",
       "      <td>40207</td>\n",
       "      <td>10122.04004</td>\n",
       "      <td>10314.83984</td>\n",
       "      <td>9998.030273</td>\n",
       "      <td>10002.17969</td>\n",
       "      <td>10002.17969</td>\n",
       "      <td>1255650000</td>\n",
       "    </tr>\n",
       "    <tr>\n",
       "      <th>6</th>\n",
       "      <td>40214</td>\n",
       "      <td>10003.69043</td>\n",
       "      <td>10161.57031</td>\n",
       "      <td>9835.089844</td>\n",
       "      <td>10144.19043</td>\n",
       "      <td>10144.19043</td>\n",
       "      <td>1133870000</td>\n",
       "    </tr>\n",
       "    <tr>\n",
       "      <th>7</th>\n",
       "      <td>40221</td>\n",
       "      <td>10137.23047</td>\n",
       "      <td>10406.58008</td>\n",
       "      <td>9983.820313</td>\n",
       "      <td>10392.90039</td>\n",
       "      <td>10392.90039</td>\n",
       "      <td>909990000</td>\n",
       "    </tr>\n",
       "    <tr>\n",
       "      <th>8</th>\n",
       "      <td>40228</td>\n",
       "      <td>10387.76953</td>\n",
       "      <td>10438.54981</td>\n",
       "      <td>10185.83008</td>\n",
       "      <td>10321.03027</td>\n",
       "      <td>10321.03027</td>\n",
       "      <td>1014930000</td>\n",
       "    </tr>\n",
       "    <tr>\n",
       "      <th>9</th>\n",
       "      <td>40235</td>\n",
       "      <td>10321.41016</td>\n",
       "      <td>10469.54004</td>\n",
       "      <td>10272.29004</td>\n",
       "      <td>10444.13965</td>\n",
       "      <td>10444.13965</td>\n",
       "      <td>1022080000</td>\n",
       "    </tr>\n",
       "  </tbody>\n",
       "</table>\n",
       "</div>"
      ],
      "text/plain": [
       "    Date         Open         High          Low        Close    Adj Close  \\\n",
       "0   Date         Open         High          Low        Close    Adj Close   \n",
       "1  40179  10430.69043  10612.37012  10430.69043  10606.86035  10606.86035   \n",
       "2  40186  10606.40039  10723.76953  10554.33008  10710.54981  10710.54981   \n",
       "3  40193  10706.99023  10729.88965  10374.69043  10389.87988  10389.87988   \n",
       "4  40200  10389.58008  10389.58008  10055.08008  10120.45996  10120.45996   \n",
       "5  40207  10122.04004  10314.83984  9998.030273  10002.17969  10002.17969   \n",
       "6  40214  10003.69043  10161.57031  9835.089844  10144.19043  10144.19043   \n",
       "7  40221  10137.23047  10406.58008  9983.820313  10392.90039  10392.90039   \n",
       "8  40228  10387.76953  10438.54981  10185.83008  10321.03027  10321.03027   \n",
       "9  40235  10321.41016  10469.54004  10272.29004  10444.13965  10444.13965   \n",
       "\n",
       "       Volume  \n",
       "0      Volume  \n",
       "1   771750000  \n",
       "2  1014940000  \n",
       "3  1062640000  \n",
       "4  1258470000  \n",
       "5  1255650000  \n",
       "6  1133870000  \n",
       "7   909990000  \n",
       "8  1014930000  \n",
       "9  1022080000  "
      ]
     },
     "execution_count": 5,
     "metadata": {},
     "output_type": "execute_result"
    }
   ],
   "source": [
    "df_train.head(10)"
   ]
  },
  {
   "cell_type": "code",
   "execution_count": 6,
   "metadata": {},
   "outputs": [
    {
     "name": "stdout",
     "output_type": "stream",
     "text": [
      "Null check on training data:\n",
      "Date         0\n",
      "Open         0\n",
      "High         0\n",
      "Low          0\n",
      "Close        0\n",
      "Adj Close    0\n",
      "Volume       0\n",
      "dtype: int64\n"
     ]
    }
   ],
   "source": [
    "null_check = df_train.isna().sum()\n",
    "print(\"Null check on training data:\")\n",
    "print(null_check)\n"
   ]
  },
  {
   "cell_type": "code",
   "execution_count": 7,
   "metadata": {},
   "outputs": [
    {
     "name": "stdout",
     "output_type": "stream",
     "text": [
      "Original data:\n"
     ]
    },
    {
     "data": {
      "text/html": [
       "<div>\n",
       "<style scoped>\n",
       "    .dataframe tbody tr th:only-of-type {\n",
       "        vertical-align: middle;\n",
       "    }\n",
       "\n",
       "    .dataframe tbody tr th {\n",
       "        vertical-align: top;\n",
       "    }\n",
       "\n",
       "    .dataframe thead th {\n",
       "        text-align: right;\n",
       "    }\n",
       "</style>\n",
       "<table border=\"1\" class=\"dataframe\">\n",
       "  <thead>\n",
       "    <tr style=\"text-align: right;\">\n",
       "      <th></th>\n",
       "      <th>Date</th>\n",
       "      <th>Open</th>\n",
       "      <th>High</th>\n",
       "      <th>Low</th>\n",
       "      <th>Close</th>\n",
       "      <th>Adj Close</th>\n",
       "      <th>Volume</th>\n",
       "    </tr>\n",
       "  </thead>\n",
       "  <tbody>\n",
       "    <tr>\n",
       "      <th>0</th>\n",
       "      <td>Date</td>\n",
       "      <td>Open</td>\n",
       "      <td>High</td>\n",
       "      <td>Low</td>\n",
       "      <td>Close</td>\n",
       "      <td>Adj Close</td>\n",
       "      <td>Volume</td>\n",
       "    </tr>\n",
       "    <tr>\n",
       "      <th>1</th>\n",
       "      <td>40179</td>\n",
       "      <td>10430.69043</td>\n",
       "      <td>10612.37012</td>\n",
       "      <td>10430.69043</td>\n",
       "      <td>10606.86035</td>\n",
       "      <td>10606.86035</td>\n",
       "      <td>771750000</td>\n",
       "    </tr>\n",
       "    <tr>\n",
       "      <th>2</th>\n",
       "      <td>40186</td>\n",
       "      <td>10606.40039</td>\n",
       "      <td>10723.76953</td>\n",
       "      <td>10554.33008</td>\n",
       "      <td>10710.54981</td>\n",
       "      <td>10710.54981</td>\n",
       "      <td>1014940000</td>\n",
       "    </tr>\n",
       "    <tr>\n",
       "      <th>3</th>\n",
       "      <td>40193</td>\n",
       "      <td>10706.99023</td>\n",
       "      <td>10729.88965</td>\n",
       "      <td>10374.69043</td>\n",
       "      <td>10389.87988</td>\n",
       "      <td>10389.87988</td>\n",
       "      <td>1062640000</td>\n",
       "    </tr>\n",
       "    <tr>\n",
       "      <th>4</th>\n",
       "      <td>40200</td>\n",
       "      <td>10389.58008</td>\n",
       "      <td>10389.58008</td>\n",
       "      <td>10055.08008</td>\n",
       "      <td>10120.45996</td>\n",
       "      <td>10120.45996</td>\n",
       "      <td>1258470000</td>\n",
       "    </tr>\n",
       "  </tbody>\n",
       "</table>\n",
       "</div>"
      ],
      "text/plain": [
       "    Date         Open         High          Low        Close    Adj Close  \\\n",
       "0   Date         Open         High          Low        Close    Adj Close   \n",
       "1  40179  10430.69043  10612.37012  10430.69043  10606.86035  10606.86035   \n",
       "2  40186  10606.40039  10723.76953  10554.33008  10710.54981  10710.54981   \n",
       "3  40193  10706.99023  10729.88965  10374.69043  10389.87988  10389.87988   \n",
       "4  40200  10389.58008  10389.58008  10055.08008  10120.45996  10120.45996   \n",
       "\n",
       "       Volume  \n",
       "0      Volume  \n",
       "1   771750000  \n",
       "2  1014940000  \n",
       "3  1062640000  \n",
       "4  1258470000  "
      ]
     },
     "execution_count": 7,
     "metadata": {},
     "output_type": "execute_result"
    }
   ],
   "source": [
    "print(\"Original data:\")\n",
    "df_train.head(5)"
   ]
  },
  {
   "cell_type": "code",
   "execution_count": 8,
   "metadata": {},
   "outputs": [],
   "source": [
    "#df_train.dropna(axis=0, how='any', inplace=True)\n",
    "# df_train.fillna(-1, inplace=True)\n",
    "# print(\"New data (after dropping rows with NaN):\")\n",
    "# df_train.head(5)"
   ]
  },
  {
   "cell_type": "code",
   "execution_count": 12,
   "metadata": {},
   "outputs": [
    {
     "name": "stdout",
     "output_type": "stream",
     "text": [
      "Label distribution of training data:\n",
      "ham     0.865937\n",
      "spam    0.134063\n",
      "Name: label, dtype: float64\n"
     ]
    }
   ],
   "source": [
    "print(\"Label distribution of training data:\")\n",
    "print((df_train.label.value_counts()/l_train))"
   ]
  },
  {
   "cell_type": "code",
   "execution_count": 26,
   "metadata": {},
   "outputs": [
    {
     "data": {
      "image/png": "[encoded data removed]",
      "text/plain": [
       "<Figure size 432x288 with 1 Axes>"
      ]
     },
     "metadata": {
      "needs_background": "light"
     },
     "output_type": "display_data"
    }
   ],
   "source": [
    "%matplotlib inline\n",
    "\n",
    "index_data = df_train\n",
    "\n",
    "# scales the data to smaller values\n",
    "index_data=scale(index_data)\n",
    "\n",
    "#gets the price and dates from the matrix\n",
    "prices = index_data[:, 1].reshape(-1, 1)\n",
    "dates = index_data[:, 0].reshape(-1, 1)\n",
    "\n",
    "#creates a plot of the data and then displays it\n",
    "plt.plot(dates[:, 0], prices[:, 0])\n",
    "plt.show()"
   ]
  },
  {
   "cell_type": "code",
   "execution_count": 66,
   "metadata": {},
   "outputs": [],
   "source": [
    "import numpy as np\n",
    "from sklearn.model_selection import train_test_split\n",
    "traindev = df_train[[\"Date\", \"Open\"]].sample(frac=1,random_state=1).reset_index(drop=True)\n",
    "# train, dev, test = np.split(traindev, [int(.6*len(df)), int(.8*len(df))])\n",
    "train, dev = train_test_split(traindev, test_size=0.3)\n",
    "train = train.reset_index(drop=True).sort_values(by='Date')\n",
    "dev = dev.reset_index(drop=True).sort_values(by='Date')"
   ]
  },
  {
   "cell_type": "code",
   "execution_count": 67,
   "metadata": {},
   "outputs": [
    {
     "data": {
      "image/png": "[encoded data removed]",
      "text/plain": [
       "<Figure size 432x288 with 1 Axes>"
      ]
     },
     "metadata": {
      "needs_background": "light"
     },
     "output_type": "display_data"
    }
   ],
   "source": [
    "train_data = train\n",
    "\n",
    "#gets the price and dates from the matrix\n",
    "prices = train_data[\"Open\"]\n",
    "dates = train_data[\"Date\"]\n",
    "\n",
    "#creates a plot of the data and then displays it\n",
    "plt.plot(dates, prices)\n",
    "plt.show()"
   ]
  },
  {
   "cell_type": "code",
   "execution_count": 68,
   "metadata": {},
   "outputs": [
    {
     "data": {
      "image/png": "[encoded data removed]",
      "text/plain": [
       "<Figure size 432x288 with 1 Axes>"
      ]
     },
     "metadata": {
      "needs_background": "light"
     },
     "output_type": "display_data"
    }
   ],
   "source": [
    "test_data = dev\n",
    "\n",
    "#gets the price and dates from the matrix\n",
    "prices = test_data[\"Open\"]\n",
    "dates = test_data[\"Date\"]\n",
    "\n",
    "#creates a plot of the data and then displays it\n",
    "plt.plot(dates, prices)\n",
    "plt.show()"
   ]
  },
  {
   "cell_type": "code",
   "execution_count": 69,
   "metadata": {},
   "outputs": [],
   "source": [
    "train.to_csv(\"data/dji/train.csv\", index=False)\n",
    "dev.to_csv(\"data/dji/test.csv\", index=False)"
   ]
  }
 ],
 "metadata": {
  "kernelspec": {
   "display_name": "Python 3",
   "language": "python",
   "name": "python3"
  },
  "language_info": {
   "codemirror_mode": {
    "name": "ipython",
    "version": 3
   },
   "file_extension": ".py",
   "mimetype": "text/x-python",
   "name": "python",
   "nbconvert_exporter": "python",
   "pygments_lexer": "ipython3",
   "version": "3.8.6"
  }
 },
 "nbformat": 4,
 "nbformat_minor": 2
}
