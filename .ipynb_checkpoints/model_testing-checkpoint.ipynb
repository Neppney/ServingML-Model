{
 "cells": [
  {
   "cell_type": "code",
   "execution_count": 14,
   "metadata": {},
   "outputs": [],
   "source": [
    "import argparse\n",
    "import os\n",
    "import pickle\n",
    "import sys\n",
    "import time\n",
    "\n",
    "import pandas as pd\n",
    "import numpy as np\n",
    "from sklearn import metrics\n",
    "from sklearn.ensemble import AdaBoostClassifier, GradientBoostingClassifier, RandomForestClassifier\n",
    "from sklearn.feature_extraction.text import CountVectorizer, TfidfVectorizer, HashingVectorizer\n",
    "from sklearn.linear_model import SGDClassifier  # logistic regression\n",
    "from sklearn.metrics import plot_confusion_matrix\n",
    "from sklearn.metrics import plot_roc_curve\n",
    "from sklearn.model_selection import GridSearchCV\n",
    "from sklearn.naive_bayes import MultinomialNB  # NB\n",
    "from sklearn.neighbors import KNeighborsClassifier  # k-NN\n",
    "from sklearn.neural_network import MLPClassifier\n",
    "from sklearn.pipeline import Pipeline\n",
    "from sklearn.preprocessing import StandardScaler\n",
    "from sklearn.preprocessing import LabelEncoder\n",
    "from sklearn.svm import LinearSVC, SVC  # linear SVM\n",
    "from sklearn.tree import DecisionTreeClassifier  # DT"
   ]
  },
  {
   "cell_type": "code",
   "execution_count": 16,
   "metadata": {},
   "outputs": [],
   "source": [
    "train_file = 'data/dji/train.csv'"
   ]
  },
  {
   "cell_type": "code",
   "execution_count": 43,
   "metadata": {},
   "outputs": [],
   "source": [
    "def build_cls(ml_cls=\"NB\"):\n",
    "    print(\"- Construct the baseline...\")\n",
    "    start = time.time()\n",
    "    if ml_cls == \"kNN\":\n",
    "        KNeighborsClassifier(n_neighbors=5)\n",
    "    elif ml_cls == \"LR\":\n",
    "        # Logistic Regression\n",
    "        classifier = SGDClassifier(verbose=5, loss='log', max_iter=100)\n",
    "    elif ml_cls == \"DT\":\n",
    "        classifier = DecisionTreeClassifier(criterion=\"entropy\", random_state=0)\n",
    "    elif ml_cls == \"SVM\":\n",
    "        classifier = LinearSVC(verbose=5, C=5)\n",
    "    elif ml_cls == \"MLP\":\n",
    "        classifier = MLPClassifier(random_state=1, max_iter=100)\n",
    "    elif ml_cls == \"AB\":\n",
    "        classifier = AdaBoostClassifier()\n",
    "    elif ml_cls == \"GB\":\n",
    "        classifier = GradientBoostingClassifier(verbose=5)\n",
    "    elif ml_cls == \"RF\":\n",
    "        classifier = RandomForestClassifier(n_estimators=100, verbose=5)\n",
    "    else:\n",
    "        # DEFAULT: NB\n",
    "        classifier = MultinomialNB()\n",
    "        \n",
    "    settings = []\n",
    "    settings += [('scaler', StandardScaler())]\n",
    "    settings += [('classifier', classifier)]\n",
    "    model = Pipeline(settings)\n",
    "\n",
    "    # parameters = {'kernel': ['linear'], 'C': [1, 10]}\n",
    "\n",
    "    end = time.time()\n",
    "    print(\"\\t+ Done: %.4f(s)\" % (end - start))\n",
    "    return model"
   ]
  },
  {
   "cell_type": "code",
   "execution_count": 44,
   "metadata": {},
   "outputs": [],
   "source": [
    "def train():\n",
    "    data_train = pd.read_csv(train_file)\n",
    "    x_traindev = np.array(data_train[\"Date\"])\n",
    "    y_traindev = np.array(data_train[\"Open\"])\n",
    "    X = np.vstack((x_traindev, y_traindev)).T\n",
    "    \n",
    "    y_traindev = LabelEncoder().fit_transform(y_traindev)\n",
    "\n",
    "    pipeline = build_cls(\"SVM\")\n",
    "    \n",
    "    print(\"- Train the baseline...\")\n",
    "    start = time.time()\n",
    "    # model = GridSearchCV(pipeline, parameters, cv=PredefinedSplit(test_fold=dev_fold),\n",
    "    #                      verbose=5,  scoring='f1_weighted')\n",
    "    model = GridSearchCV(pipeline, {}, cv=2, verbose=5, scoring='f1_weighted')\n",
    "    model.fit(X, y_traindev)\n",
    "    end = time.time()\n",
    "    print(\"\\t+ Done: %.4f(s)\" % (end - start))\n",
    "    best_model = model.best_estimator_\n",
    "    #save(best_model, args.model_name)\n",
    "    return 'Yay'"
   ]
  },
  {
   "cell_type": "code",
   "execution_count": 45,
   "metadata": {},
   "outputs": [
    {
     "name": "stdout",
     "output_type": "stream",
     "text": [
      "- Construct the baseline...\n",
      "\t+ Done: 0.0000(s)\n",
      "- Train the baseline...\n",
      "Fitting 2 folds for each of 1 candidates, totalling 2 fits\n",
      "[CV]  ................................................................\n",
      "[LibLinear]"
     ]
    },
    {
     "name": "stderr",
     "output_type": "stream",
     "text": [
      "e:\\desktop\\cloudcomputing\\servingml_model\\venv\\lib\\site-packages\\sklearn\\model_selection\\_split.py:670: UserWarning: The least populated class in y has only 1 members, which is less than n_splits=2.\n",
      "  warnings.warn((\"The least populated class in y has only %d\"\n",
      "[Parallel(n_jobs=1)]: Using backend SequentialBackend with 1 concurrent workers.\n"
     ]
    },
    {
     "name": "stdout",
     "output_type": "stream",
     "text": [
      "[CV] .................................... , score=0.002, total=   0.9s\n",
      "[CV]  ................................................................\n",
      "[LibLinear]"
     ]
    },
    {
     "name": "stderr",
     "output_type": "stream",
     "text": [
      "[Parallel(n_jobs=1)]: Done   1 out of   1 | elapsed:    0.8s remaining:    0.0s\n"
     ]
    },
    {
     "name": "stdout",
     "output_type": "stream",
     "text": [
      "[CV] .................................... , score=0.002, total=   0.9s\n",
      "[LibLinear]"
     ]
    },
    {
     "name": "stderr",
     "output_type": "stream",
     "text": [
      "[Parallel(n_jobs=1)]: Done   2 out of   2 | elapsed:    1.8s remaining:    0.0s\n",
      "[Parallel(n_jobs=1)]: Done   2 out of   2 | elapsed:    1.8s finished\n"
     ]
    },
    {
     "name": "stdout",
     "output_type": "stream",
     "text": [
      "\t+ Done: 8.0924(s)\n",
      "Yay\n"
     ]
    },
    {
     "name": "stderr",
     "output_type": "stream",
     "text": [
      "e:\\desktop\\cloudcomputing\\servingml_model\\venv\\lib\\site-packages\\sklearn\\svm\\_base.py:976: ConvergenceWarning: Liblinear failed to converge, increase the number of iterations.\n",
      "  warnings.warn(\"Liblinear failed to converge, increase \"\n"
     ]
    }
   ],
   "source": [
    "print(train())"
   ]
  },
  {
   "cell_type": "code",
   "execution_count": null,
   "metadata": {},
   "outputs": [],
   "source": []
  }
 ],
 "metadata": {
  "kernelspec": {
   "display_name": "Python 3",
   "language": "python",
   "name": "python3"
  },
  "language_info": {
   "codemirror_mode": {
    "name": "ipython",
    "version": 3
   },
   "file_extension": ".py",
   "mimetype": "text/x-python",
   "name": "python",
   "nbconvert_exporter": "python",
   "pygments_lexer": "ipython3",
   "version": "3.8.6"
  }
 },
 "nbformat": 4,
 "nbformat_minor": 4
}
